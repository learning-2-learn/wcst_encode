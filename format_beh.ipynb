{
 "cells": [
  {
   "cell_type": "code",
   "execution_count": 11,
   "metadata": {},
   "outputs": [],
   "source": [
    "import numpy as np\n",
    "import pandas as pd\n",
    "from spike_tools import (\n",
    "    general as spike_general,\n",
    "    analysis as spike_analysis,\n",
    ")\n",
    "from constants import FEATURES\n",
    "\n",
    "species = 'nhp'\n",
    "subject = 'SA'\n",
    "exp = 'WCST'\n",
    "session = 20180802  # this is the session for which there are spikes at the moment. "
   ]
  },
  {
   "cell_type": "code",
   "execution_count": 17,
   "metadata": {},
   "outputs": [],
   "source": [
    "behavior_file = spike_general.get_behavior_path(subject, session)\n",
    "behavior_data = pd.read_csv(\"/data/sub-SA_sess-20180802_object_features.csv\")\n",
    "valid_beh = behavior_data[behavior_data.Response.isin([\"Correct\", \"Incorrect\"])]\n"
   ]
  },
  {
   "cell_type": "code",
   "execution_count": 74,
   "metadata": {},
   "outputs": [],
   "source": [
    "def get_X_by_bins(bin_size, data):\n",
    "    \"\"\"\n",
    "    bin_size: in miliseconds, bin size\n",
    "    data: dataframe for behavioral data from object features csv\n",
    "    Returns: new dataframe with one-hot encoding of features, feedback\n",
    "    \"\"\"\n",
    "    max_time = np.max(valid_beh[\"TrialEnd\"].values)\n",
    "    max_bin_idx = int(max_time / bin_size) + 1\n",
    "    columns = FEATURES + [\"CORRECT\", \"INCORRECT\"]\n",
    "    types = [\"f4\" for _ in columns]\n",
    "    zipped = list(zip(columns, types))\n",
    "    dtype = np.dtype(zipped)\n",
    "    arr = np.zeros((max_bin_idx), dtype=dtype)\n",
    "\n",
    "    for _, row in data.iterrows():\n",
    "        # grab features of item chosen\n",
    "        item_chosen = int(row[\"ItemChosen\"])\n",
    "        color = row[f\"Item{item_chosen}Color\"]\n",
    "        shape = row[f\"Item{item_chosen}Shape\"]\n",
    "        pattern = row[f\"Item{item_chosen}Pattern\"]\n",
    "\n",
    "        chosen_time = row[\"FeedbackOnset\"] - 800\n",
    "        chosen_bin = int(chosen_time / bin_size)\n",
    "        arr[chosen_bin][color] = 1\n",
    "        arr[chosen_bin][shape] = 1\n",
    "        arr[chosen_bin][pattern] = 1\n",
    "\n",
    "        feedback_bin = int(row[\"FeedbackOnset\"] / bin_size)\n",
    "        # print(feedback_bin)\n",
    "        if row[\"Response\"] == \"Correct\":\n",
    "            arr[feedback_bin][\"CORRECT\"] = 1\n",
    "        else:\n",
    "            arr[feedback_bin][\"INCORRECT\"] = 1\n",
    "    df = pd.DataFrame(arr)\n",
    "    df[\"bin_idx\"] = np.arange(len(df))\n",
    "    return df\n",
    "        \n"
   ]
  },
  {
   "cell_type": "code",
   "execution_count": 84,
   "metadata": {},
   "outputs": [],
   "source": [
    "res = get_X_by_bins(50, valid_beh)"
   ]
  },
  {
   "cell_type": "code",
   "execution_count": 76,
   "metadata": {},
   "outputs": [],
   "source": [
    "res.to_pickle('/data/processed/sub-SA_sess-20180802_behavior_binsize_50.pickle')"
   ]
  },
  {
   "attachments": {},
   "cell_type": "markdown",
   "metadata": {},
   "source": [
    "### Grab bin idxs of interval around fb onset"
   ]
  },
  {
   "cell_type": "code",
   "execution_count": 79,
   "metadata": {},
   "outputs": [],
   "source": [
    "def get_trial_intervals(behavioral_data, event=\"FeedbackOnset\", pre_interval=0, post_interval=0, bin_size=50):\n",
    "    \"\"\"Per trial, finds time interval surrounding some event in the behavioral data\n",
    "\n",
    "    Args:\n",
    "        behavioral_data: Dataframe describing each trial, must contain\n",
    "            columns: TrialNumber, whatever 'event' param describes\n",
    "        event: name of event to align around, must be present as a\n",
    "            column name in behavioral_data Dataframe\n",
    "        pre_interval: number of miliseconds before event\n",
    "        post_interval: number of miliseconds after event\n",
    "\n",
    "    Returns:\n",
    "        DataFrame with num_trials length, columns: TrialNumber,\n",
    "        IntervalStartTime, IntervalEndTime\n",
    "    \"\"\"\n",
    "    trial_event_times = behavioral_data[[\"TrialNumber\", event]]\n",
    "\n",
    "    intervals = np.empty((len(trial_event_times), 3))\n",
    "    intervals[:, 0] = trial_event_times[\"TrialNumber\"]\n",
    "    intervals[:, 1] = trial_event_times[event] - pre_interval\n",
    "    intervals[:, 2] = trial_event_times[event] + post_interval\n",
    "    intervals_df = pd.DataFrame(columns=[\"TrialNumber\", \"IntervalStartTime\", \"IntervalEndTime\"])\n",
    "    intervals_df[\"TrialNumber\"] = trial_event_times[\"TrialNumber\"].astype(int)\n",
    "    intervals_df[\"IntervalStartTime\"] = trial_event_times[event] - pre_interval\n",
    "    intervals_df[\"IntervalEndTime\"] = trial_event_times[event] + post_interval\n",
    "    intervals_df[\"IntervalStartBin\"] = (intervals_df[\"IntervalStartTime\"] / bin_size).astype(int)\n",
    "    intervals_df[\"IntervalEndBin\"] = (intervals_df[\"IntervalEndTime\"] / bin_size).astype(int)\n",
    "    return intervals_df\n"
   ]
  },
  {
   "cell_type": "code",
   "execution_count": 80,
   "metadata": {},
   "outputs": [],
   "source": [
    "intervals = get_trial_intervals(valid_beh, pre_interval=1500, post_interval=1500, bin_size=50)"
   ]
  },
  {
   "cell_type": "code",
   "execution_count": 82,
   "metadata": {},
   "outputs": [],
   "source": [
    "intervals.to_pickle(\"/data/processed/sub-SA_sess-20180802_interval_1500_fb_1500_binsize_50.pickle\")"
   ]
  }
 ],
 "metadata": {
  "kernelspec": {
   "display_name": "Python 3",
   "language": "python",
   "name": "python3"
  },
  "language_info": {
   "codemirror_mode": {
    "name": "ipython",
    "version": 3
   },
   "file_extension": ".py",
   "mimetype": "text/x-python",
   "name": "python",
   "nbconvert_exporter": "python",
   "pygments_lexer": "ipython3",
   "version": "3.10.6"
  },
  "orig_nbformat": 4
 },
 "nbformat": 4,
 "nbformat_minor": 2
}
