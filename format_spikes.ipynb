{
 "cells": [
  {
   "cell_type": "code",
   "execution_count": 6,
   "metadata": {},
   "outputs": [],
   "source": [
    "import numpy as np\n",
    "import pandas as pd\n",
    "from spike_tools import (\n",
    "    general as spike_general,\n",
    "    analysis as spike_analysis,\n",
    ")\n",
    "from scipy.ndimage import gaussian_filter1d\n"
   ]
  },
  {
   "cell_type": "code",
   "execution_count": 7,
   "metadata": {},
   "outputs": [],
   "source": [
    "def firing_rate(spData, channelData, bins, smoothing):\n",
    "    bin_size = np.abs(np.diff(bins)[0])\n",
    "    # spData is pandas dataframe with at least TrialNumber, UnitId, and SpikeTimeFromStart columns\n",
    "    trial_unit_index = pd.MultiIndex.from_product([np.unique(spData.TrialNumber), np.unique(channelData.UnitID).astype(int), bins[:-1]], names=[\"TrialNumber\", \"UnitID\", \"TimeBins\"]).to_frame()\n",
    "    trial_unit_index = trial_unit_index.droplevel(2).drop(columns=[\"TrialNumber\", \"UnitID\"]).reset_index()\n",
    "    \n",
    "    groupedData = spData.groupby([\"TrialNumber\", \"UnitID\"])\n",
    "\n",
    "    fr_DF = groupedData.apply(lambda x: pd.DataFrame(\\\n",
    "                            {\"SpikeCounts\": np.histogram(x.SpikeTimeFromStart/1000, bins)[0],\\\n",
    "                             \"FiringRate\": gaussian_filter1d(np.histogram(x.SpikeTimeFromStart/1000, bins)[0].astype(float)/bin_size, smoothing),\\\n",
    "                             \"TimeBins\": bins[:-1]}))\n",
    "    #print(\"Trial\", np.unique(trial_unit_index.UnitID))\n",
    "    #print(\"FR\", np.unique(fr_DF.droplevel(2).reset_index().UnitID))\n",
    "    all_units_df = trial_unit_index.merge(fr_DF.droplevel(2).reset_index(), how='outer', on=[\"TrialNumber\", \"UnitID\", \"TimeBins\"])\n",
    "    #for unit in np.unique(all_units_df.UnitID):\n",
    "    #    unit_df = all_units_df[all_units_df.UnitID == unit]\n",
    "    #    print(unit_df)\n",
    "    #    print(unit, len(unit_df))\n",
    "    all_units_df.FiringRate = all_units_df.FiringRate.fillna(0.0)\n",
    "    all_units_df.SpikeCounts = all_units_df.SpikeCounts.fillna(0)\n",
    "    return all_units_df"
   ]
  },
  {
   "cell_type": "code",
   "execution_count": 4,
   "metadata": {},
   "outputs": [],
   "source": [
    "spike_times = pd.read_pickle(\"/data/sub-SA_sess-20180802_spike_times.pickle\")"
   ]
  }
 ],
 "metadata": {
  "kernelspec": {
   "display_name": "Python 3",
   "language": "python",
   "name": "python3"
  },
  "language_info": {
   "codemirror_mode": {
    "name": "ipython",
    "version": 3
   },
   "file_extension": ".py",
   "mimetype": "text/x-python",
   "name": "python",
   "nbconvert_exporter": "python",
   "pygments_lexer": "ipython3",
   "version": "3.10.6"
  },
  "orig_nbformat": 4
 },
 "nbformat": 4,
 "nbformat_minor": 2
}
